{
 "cells": [
  {
   "cell_type": "code",
   "execution_count": 4,
   "metadata": {},
   "outputs": [
    {
     "name": "stdout",
     "output_type": "stream",
     "text": [
      "[[ 1  2  2  3  4]\n",
      " [ 1 28  2  6  8]]\n",
      "(2, 5)\n",
      "int32\n"
     ]
    }
   ],
   "source": [
    "import numpy as np\n",
    "array1=np.array([[1,2,2,3,4],[1,28,2,6,8]],dtype='int32')\n",
    "print(array1)\n",
    "print(array1.shape)\n",
    "print(array1.dtype)"
   ]
  },
  {
   "cell_type": "code",
   "execution_count": 5,
   "metadata": {},
   "outputs": [
    {
     "name": "stdout",
     "output_type": "stream",
     "text": [
      "[[1. 1. 1. 1. 1. 1.]\n",
      " [1. 1. 1. 1. 1. 1.]\n",
      " [1. 1. 1. 1. 1. 1.]\n",
      " [1. 1. 1. 1. 1. 1.]]\n",
      "float64\n",
      "[[1. 1. 1. 1. 1. 1.]\n",
      " [1. 1. 1. 1. 1. 1.]\n",
      " [1. 1. 1. 1. 1. 1.]\n",
      " [1. 1. 1. 1. 1. 1.]]\n"
     ]
    }
   ],
   "source": [
    "print(np.ones((4,6)))\n",
    "print(np.ones((4,6)).dtype)\n",
    "print(np.empty((4,6))) # it will return a memory to array it will not always zero it will be random"
   ]
  },
  {
   "cell_type": "code",
   "execution_count": 6,
   "metadata": {},
   "outputs": [
    {
     "ename": "SyntaxError",
     "evalue": "invalid syntax (589181609.py, line 2)",
     "output_type": "error",
     "traceback": [
      "\u001b[1;36m  Input \u001b[1;32mIn [6]\u001b[1;36m\u001b[0m\n\u001b[1;33m    print(array1*array1,,'\\n') # element wise multiplication\u001b[0m\n\u001b[1;37m                        ^\u001b[0m\n\u001b[1;31mSyntaxError\u001b[0m\u001b[1;31m:\u001b[0m invalid syntax\n"
     ]
    }
   ],
   "source": [
    "print(array1,'\\n')\n",
    "print(array1*array1,,'\\n') # element wise multiplication\n",
    "print(array1**array1) # element wise multiplication"
   ]
  },
  {
   "cell_type": "code",
   "execution_count": null,
   "metadata": {},
   "outputs": [
    {
     "name": "stdout",
     "output_type": "stream",
     "text": [
      "[ 5  4 64  3  9  3] see this is changed\n",
      "[ 5  4 64  3  3  3] see this is not changed\n"
     ]
    }
   ],
   "source": [
    "array2=np.array([5,4,64,3,3,3])\n",
    "arr=array2[4:6]\n",
    "arr[0]=9 # it will change the value of the array2 as well if you not want this then please copy the array2\n",
    "print(array2,'see this is changed')\n",
    "array2=np.array([5,4,64,3,3,3]) # reassigning the array2\n",
    "arr=array2[4:6].copy() # it will not change the value of the array2\n",
    "arr[0]=9 # it will not change the value of the array2\n",
    "print(array2,'see this is not changed')\n"
   ]
  },
  {
   "cell_type": "code",
   "execution_count": null,
   "metadata": {},
   "outputs": [
    {
     "name": "stdout",
     "output_type": "stream",
     "text": [
      "[ 6 15]\n",
      "[5 7 9]\n"
     ]
    },
    {
     "data": {
      "text/plain": [
       "array([[-3,  6, -3],\n",
       "       [-3,  6, -3]])"
      ]
     },
     "execution_count": 51,
     "metadata": {},
     "output_type": "execute_result"
    }
   ],
   "source": [
    "ar1=np.array([[1,2,3],[4,5,6]])\n",
    "print(ar1.sum(axis=1)) # it will return the sum of each row\n",
    "print(ar1.sum(axis=0)) # it will return the sum of each column\n",
    "ar2=np.array([[4,5,6],[7,8,9]])\n",
    "np.dot(ar1,ar2.transpose()) # it will return the dot product of the two matrix\n",
    "np.cross(ar1,ar2) # it will return the cross product of the two matrix"
   ]
  },
  {
   "cell_type": "code",
   "execution_count": 8,
   "metadata": {},
   "outputs": [
    {
     "name": "stdout",
     "output_type": "stream",
     "text": [
      "[[ 2 63 89]\n",
      " [ 4  6 25]]\n",
      "\n",
      "[[25  2  4]\n",
      " [89  6 63]]\n",
      "\n",
      "[[25  2  4]\n",
      " [89  6 63]]\n"
     ]
    }
   ],
   "source": [
    "a=np.array([[89,2,63],[25,6,4]])\n",
    "print(np.sort(a)) # it will return the sorted array\n",
    "print(\"\")\n",
    "print(np.sort(a,axis=0)) # it will return the sorted array along the column\n",
    "print(\"\")\n",
    "print(np.sort(a,axis=0,kind='mergesort')) # it will return the sorted array along the column by merge sort\n"
   ]
  },
  {
   "cell_type": "code",
   "execution_count": 16,
   "metadata": {},
   "outputs": [
    {
     "name": "stdout",
     "output_type": "stream",
     "text": [
      "(21,) \n",
      "\n",
      "[[   1   25   25]\n",
      " [  64    4 5004]\n",
      " [  54    5    4]\n",
      " [ 967   84   54]\n",
      " [   3    5    9]\n",
      " [   4    8    9]\n",
      " [   7   25    1]] \n",
      "\n",
      "[ 0 20 12  4  8 15  7 13 18 16 17 14  2 19  1 11  6  3 10  9  5] \n",
      "\n",
      "0 \n",
      "\n",
      "5 \n",
      "\n"
     ]
    }
   ],
   "source": [
    "b=np.array([1,25,25,64,4,5004,54,5,4,967,84,54,3,5,9,4,8,9,7,25,1])\n",
    "print(b.shape,'\\n')\n",
    "print(b.reshape(7,3),'\\n') # it will return the array in the shape of 7*3 matrix\n",
    "print(np.argsort(b),'\\n') # it will return position of the sortation element array\n",
    "print(np.argmin(b),'\\n') # it will return the position of the minimum element\n",
    "print(np.argmax(b),'\\n') # it will return the position of the maximum element"
   ]
  },
  {
   "cell_type": "code",
   "execution_count": null,
   "metadata": {},
   "outputs": [],
   "source": []
  }
 ],
 "metadata": {
  "kernelspec": {
   "display_name": "Python 3.10.4 64-bit",
   "language": "python",
   "name": "python3"
  },
  "language_info": {
   "codemirror_mode": {
    "name": "ipython",
    "version": 3
   },
   "file_extension": ".py",
   "mimetype": "text/x-python",
   "name": "python",
   "nbconvert_exporter": "python",
   "pygments_lexer": "ipython3",
   "version": "3.10.4"
  },
  "orig_nbformat": 4,
  "vscode": {
   "interpreter": {
    "hash": "75d86d991fe7b354500db21920de24131875b44419c9300db59671547a56b713"
   }
  }
 },
 "nbformat": 4,
 "nbformat_minor": 2
}
