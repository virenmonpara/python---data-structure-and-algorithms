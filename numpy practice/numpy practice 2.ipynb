{
 "cells": [
  {
   "cell_type": "code",
   "execution_count": 5,
   "metadata": {
    "collapsed": false,
    "pycharm": {
     "name": "#%%\n"
    }
   },
   "outputs": [
    {
     "ename": "ImportError",
     "evalue": "cannot import name 'zscore_normalize_features' from 'lab_utils' (c:\\Users\\viren monpara\\AppData\\Local\\Programs\\Python\\Python310\\lib\\site-packages\\lab_utils\\__init__.py)",
     "output_type": "error",
     "traceback": [
      "\u001b[1;31m---------------------------------------------------------------------------\u001b[0m",
      "\u001b[1;31mImportError\u001b[0m                               Traceback (most recent call last)",
      "\u001b[1;32mc:\\Users\\viren monpara\\Documents\\GitHub\\python-data-structure-and-algorithms\\numpy practice\\numpy practice 2.ipynb Cell 1\u001b[0m in \u001b[0;36m<cell line: 3>\u001b[1;34m()\u001b[0m\n\u001b[0;32m      <a href='vscode-notebook-cell:/c%3A/Users/viren%20monpara/Documents/GitHub/python-data-structure-and-algorithms/numpy%20practice/numpy%20practice%202.ipynb#W0sZmlsZQ%3D%3D?line=0'>1</a>\u001b[0m \u001b[39mimport\u001b[39;00m \u001b[39mnumpy\u001b[39;00m \u001b[39mas\u001b[39;00m \u001b[39mnp\u001b[39;00m\n\u001b[0;32m      <a href='vscode-notebook-cell:/c%3A/Users/viren%20monpara/Documents/GitHub/python-data-structure-and-algorithms/numpy%20practice/numpy%20practice%202.ipynb#W0sZmlsZQ%3D%3D?line=1'>2</a>\u001b[0m \u001b[39mimport\u001b[39;00m \u001b[39mmatplotlib\u001b[39;00m\u001b[39m.\u001b[39;00m\u001b[39mpyplot\u001b[39;00m \u001b[39mas\u001b[39;00m \u001b[39mplt\u001b[39;00m\n\u001b[1;32m----> <a href='vscode-notebook-cell:/c%3A/Users/viren%20monpara/Documents/GitHub/python-data-structure-and-algorithms/numpy%20practice/numpy%20practice%202.ipynb#W0sZmlsZQ%3D%3D?line=2'>3</a>\u001b[0m \u001b[39mfrom\u001b[39;00m \u001b[39mlab_utils\u001b[39;00m \u001b[39mimport\u001b[39;00m zscore_normalize_features, run_gradient_descent_feng\n\u001b[0;32m      <a href='vscode-notebook-cell:/c%3A/Users/viren%20monpara/Documents/GitHub/python-data-structure-and-algorithms/numpy%20practice/numpy%20practice%202.ipynb#W0sZmlsZQ%3D%3D?line=3'>4</a>\u001b[0m np\u001b[39m.\u001b[39mset_printoptions(precision\u001b[39m=\u001b[39m\u001b[39m2\u001b[39m)\n",
      "\u001b[1;31mImportError\u001b[0m: cannot import name 'zscore_normalize_features' from 'lab_utils' (c:\\Users\\viren monpara\\AppData\\Local\\Programs\\Python\\Python310\\lib\\site-packages\\lab_utils\\__init__.py)"
     ]
    }
   ],
   "source": [
    "import numpy as np\n",
    "import matplotlib.pyplot as plt\n",
    "from lab_utils import zscore_normalize_features, run_gradient_descent_feng\n",
    "np.set_printoptions(precision=2)  # reduced display precision on numpy arrays"
   ]
  },
  {
   "cell_type": "code",
   "execution_count": null,
   "metadata": {
    "collapsed": false,
    "pycharm": {
     "name": "#%%\n"
    }
   },
   "outputs": [],
   "source": [
    "x=np.arange(0,20,1)\n",
    "y=1+x**2\n",
    "x=x.reshape(-1,1)\n",
    "model_w,model_b = run_gradient_descent_feng(x,y,0.01,1000)\n"
   ]
  },
  {
   "cell_type": "code",
   "execution_count": null,
   "metadata": {
    "collapsed": false,
    "pycharm": {
     "name": "#%%\n"
    }
   },
   "outputs": [],
   "source": []
  }
 ],
 "metadata": {
  "kernelspec": {
   "display_name": "Python 3.10.4 64-bit",
   "language": "python",
   "name": "python3"
  },
  "language_info": {
   "codemirror_mode": {
    "name": "ipython",
    "version": 3
   },
   "file_extension": ".py",
   "mimetype": "text/x-python",
   "name": "python",
   "nbconvert_exporter": "python",
   "pygments_lexer": "ipython3",
   "version": "3.10.4"
  },
  "vscode": {
   "interpreter": {
    "hash": "75d86d991fe7b354500db21920de24131875b44419c9300db59671547a56b713"
   }
  }
 },
 "nbformat": 4,
 "nbformat_minor": 0
}
