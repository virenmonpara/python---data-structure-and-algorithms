{
 "cells": [
  {
   "cell_type": "markdown",
   "metadata": {},
   "source": [
    "assorting matches in file "
   ]
  },
  {
   "cell_type": "code",
   "execution_count": null,
   "metadata": {},
   "outputs": [],
   "source": [
    "import re\n",
    "# regex example i have learned from youtube link below\n",
    "# https://youtu.be/K8L6KVGG-7o\n",
    "text_to_search = ''' \n",
    "abcdefghijklmnopqurtuvwxyz\n",
    "ABCDEFGHIJKLMNOPQRSTUVWXYZ\n",
    "1234567890\n",
    "\n",
    "Ha HaHa\n",
    "\n",
    "metaCharacters (Need to be escaped):\n",
    ". ^ $ * + ? { } [ ] \\ | ( )\n",
    "\n",
    "coreyms.com\n",
    "\n",
    "321-555-4321\n",
    "123.555.1234\n",
    "354*564*6843\n",
    "800-595-4321\n",
    "900-655-4321\n",
    "\n",
    "Mr. Viren\n",
    "Mr Smith\n",
    "Ms Davis\n",
    "Mrs. Robinson\n",
    "Mr. T\n",
    "\n",
    "cat\n",
    "pat\n",
    "bat\n",
    "mat\n",
    "'''\n",
    "sentence = 'Start a sentence and then bring it to an end'\n",
    "\n",
    "\n",
    "# print('\\t Tab')   # \\t is tab\n",
    "# print(r'\\t Tab')  # Raw String\n",
    "# pattern=re.compile(r'\\.') # r'\\.' is used to escape the dot\n",
    "# pattern=re.compile(r'\\d') # \\d is digit\n",
    "# pattern=re.compile(r'[^b]at') # ^ is used to exclude the character\n",
    "# pattern = re.compile(r'\\bHa') # \\b is word boundary\n",
    "# pattern = re.compile(r'^Start')  # ^ is used to find at beginning of the string\n",
    "# pattern = re.compile(r'end$') # $ is used to find at end of the string\n",
    "# pattern=re.compile(r'\\d\\d\\d') # to find three digit number in row\n",
    "# pattern = re.compile(r'\\d\\d\\d.\\d\\d\\d.\\d\\d\\d\\d') # to find mentioned(number of \\d) digit number in row\n",
    "# pattern = re.compile(r'\\d{3}.\\d{3}.\\d{4}') #above mentioned pattern is also do the same\n",
    "# pattern = re.compile(r'\\d\\d\\d[.-]\\d\\d\\d[.-]\\d\\d\\d\\d') #finding numbers with .or- in row it will not show with *\n",
    "# pattern = re.compile(r'[89]00[.-]\\d\\d\\d[.-]\\d\\d\\d\\d') #finding number starting with 800 or 900 and then followed by .or-\n",
    "# pattern=re.compile(r'[a-zA-Z0-9]') # to find all the characters in row\n",
    "# pattern=re.compile(r'Mr\\.?\\s[A-Z]\\w*') # matching Mr. or Mr and then followed by capital letter and then followed by any character\n",
    "pattern=re.compile(r'(Mr|Ms|Mrs)\\.?\\s[A-Z]\\w*')\n",
    "\n",
    "# matches = pattern.finditer(sentence)\n",
    "matches = pattern.finditer(text_to_search)\n",
    "\n",
    "for match in matches:\n",
    "    print(match)"
   ]
  },
  {
   "cell_type": "markdown",
   "metadata": {},
   "source": [
    "assorting data from another file"
   ]
  },
  {
   "cell_type": "code",
   "execution_count": null,
   "metadata": {},
   "outputs": [],
   "source": [
    "import re\n",
    "\n",
    "\n",
    "# pattern = re.compile(r'\\d\\d\\d.\\d\\d\\d.\\d\\d\\d\\d')\n",
    "# pattern = re.compile(r'[89]00[.-]\\d\\d\\d[.-]\\d\\d\\d\\d') #finding number starting with 800 or 900 and then followed by .or-\n",
    "pattern=re.compile(r'[a-z]')\n",
    "\n",
    "with open('data.txt','r',encoding='utf-8') as f:\n",
    "    contents = f.read()\n",
    "    matches = pattern.finditer(contents)\n",
    "    for match in matches:\n",
    "        print(match)"
   ]
  },
  {
   "cell_type": "markdown",
   "metadata": {},
   "source": [
    "assorting data from another file here i am assorting email"
   ]
  },
  {
   "cell_type": "code",
   "execution_count": 64,
   "metadata": {},
   "outputs": [
    {
     "name": "stdout",
     "output_type": "stream",
     "text": [
      "<re.Match object; span=(0, 23), match='VirenKMonpara@gmail.com'>\n",
      "<re.Match object; span=(24, 52), match='viren.monpara@university.edu'>\n",
      "<re.Match object; span=(53, 82), match='viren-321-monpara@my-work.net'>\n"
     ]
    }
   ],
   "source": [
    "import re\n",
    "\n",
    "pattern = re.compile(r'[a-zA-Z0-9.-]+@[a-zA-Z-]+\\.(com|edu|net)')# matching all email address\n",
    "# pattern = re.compile(r'[a-zA-Z]+@[a-zA-Z]+\\.[a-zA-Z]{2,3}') # to match first email address\n",
    "\n",
    "with open('emails.txt','r',encoding='utf-8') as f:\n",
    "    contents = f.read()\n",
    "    matches = pattern.finditer(contents)\n",
    "    for match in matches:\n",
    "        print(match)"
   ]
  }
 ],
 "metadata": {
  "interpreter": {
   "hash": "75d86d991fe7b354500db21920de24131875b44419c9300db59671547a56b713"
  },
  "kernelspec": {
   "display_name": "Python 3.10.4 64-bit",
   "language": "python",
   "name": "python3"
  },
  "language_info": {
   "codemirror_mode": {
    "name": "ipython",
    "version": 3
   },
   "file_extension": ".py",
   "mimetype": "text/x-python",
   "name": "python",
   "nbconvert_exporter": "python",
   "pygments_lexer": "ipython3",
   "version": "3.10.4"
  },
  "orig_nbformat": 4
 },
 "nbformat": 4,
 "nbformat_minor": 2
}
